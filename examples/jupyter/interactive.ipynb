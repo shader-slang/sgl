{
 "cells": [
  {
   "cell_type": "code",
   "execution_count": null,
   "metadata": {},
   "outputs": [],
   "source": [
    "%matplotlib widget\n",
    "\n",
    "import sgl\n",
    "from ipywidgets import *\n",
    "import numpy as np\n",
    "import matplotlib.pyplot as plt\n",
    "import os\n",
    "\n",
    "DIR = os.path.abspath(os.path.curdir)\n",
    "\n",
    "device = sgl.Device(compiler_options={\"include_paths\": [DIR]})\n",
    "\n",
    "program = device.load_program(\"func.slang\", [\"main\"])\n",
    "kernel = device.create_compute_kernel(program)\n",
    "buf_x = device.create_structured_buffer(1024, struct_type=kernel.reflection.main.buf_x, usage=sgl.ResourceUsage.shader_resource)\n",
    "buf_y = device.create_structured_buffer(1024, struct_type=kernel.reflection.main.buf_y, usage=sgl.ResourceUsage.unordered_access)\n",
    "buf_dydx = device.create_structured_buffer(1024, struct_type=kernel.reflection.main.buf_dydx, usage=sgl.ResourceUsage.unordered_access)\n",
    "\n",
    "def eval_func(x, A=0.5, B=10.0, C=0.0):\n",
    "    buf_x.from_numpy(x)\n",
    "    kernel.dispatch(thread_count=[1024,1,1], buf_x=buf_x, buf_y=buf_y, buf_dydx=buf_dydx, A=A, B=B, C=C)\n",
    "    y = buf_y.to_numpy().view(np.float32)\n",
    "    dydx = buf_dydx.to_numpy().view(np.float32)\n",
    "    return y, dydx\n",
    "\n",
    "x = np.linspace(0, 1, 1024, dtype=np.float32)\n",
    "\n",
    "fig = plt.figure()\n",
    "ax = fig.add_subplot(1, 1, 1)\n",
    "ax.set_title(\"y = A * sin(B * x) + C\")\n",
    "y, dydx = eval_func(x)\n",
    "line_y, = ax.plot(x, y, label=\"y\")\n",
    "line_dydx, = ax.plot(x, dydx, label=\"dy/dx\")\n",
    "ax.legend(loc=\"upper right\")\n",
    "\n",
    "def update(A, B, C):\n",
    "    y, dydx = eval_func(x, A, B, C)\n",
    "    line_y.set_ydata(y)\n",
    "    line_dydx.set_ydata(dydx)\n",
    "    fig.canvas.draw_idle()\n",
    "    \n",
    "interact(update, A = (0,1,0.1), B = (0,100,0.1), C = (-5,5,0.1));"
   ]
  }
 ],
 "metadata": {
  "kernelspec": {
   "display_name": "falcor-pytorch",
   "language": "python",
   "name": "python3"
  },
  "language_info": {
   "codemirror_mode": {
    "name": "ipython",
    "version": 3
   },
   "file_extension": ".py",
   "mimetype": "text/x-python",
   "name": "python",
   "nbconvert_exporter": "python",
   "pygments_lexer": "ipython3",
   "version": "3.10.12"
  }
 },
 "nbformat": 4,
 "nbformat_minor": 2
}

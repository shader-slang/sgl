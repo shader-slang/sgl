{
 "cells": [
  {
   "cell_type": "code",
   "execution_count": 1,
   "metadata": {},
   "outputs": [
    {
     "ename": "TypeError",
     "evalue": "create_buffer(): incompatible function arguments. The following argument types are supported:\n    1. create_buffer(self, size: int = 0, struct_size: int = 0, format: sgl.Format = sgl.Format.unknown, usage: sgl.ResourceUsage = sgl.ResourceUsage.none, memory_type: sgl.MemoryType = sgl.MemoryType.device_local, debug_name: str = '', data: numpy.ndarray[] | None = None) -> sgl.Buffer\n    2. create_buffer(self, desc: sgl.BufferDesc) -> sgl.Buffer\n\nInvoked with types: sgl.Device, kwargs = { element_count: int, struct_type: sgl.ReflectionCursor, usage: sgl.ResourceUsage }",
     "output_type": "error",
     "traceback": [
      "\u001b[1;31m---------------------------------------------------------------------------\u001b[0m",
      "\u001b[1;31mTypeError\u001b[0m                                 Traceback (most recent call last)",
      "Cell \u001b[1;32mIn[1], line 15\u001b[0m\n\u001b[0;32m     13\u001b[0m program \u001b[38;5;241m=\u001b[39m device\u001b[38;5;241m.\u001b[39mload_program(\u001b[38;5;124m\"\u001b[39m\u001b[38;5;124mfunc.slang\u001b[39m\u001b[38;5;124m\"\u001b[39m, [\u001b[38;5;124m\"\u001b[39m\u001b[38;5;124mmain\u001b[39m\u001b[38;5;124m\"\u001b[39m])\n\u001b[0;32m     14\u001b[0m kernel \u001b[38;5;241m=\u001b[39m device\u001b[38;5;241m.\u001b[39mcreate_compute_kernel(program)\n\u001b[1;32m---> 15\u001b[0m buf_x \u001b[38;5;241m=\u001b[39m \u001b[43mdevice\u001b[49m\u001b[38;5;241;43m.\u001b[39;49m\u001b[43mcreate_buffer\u001b[49m\u001b[43m(\u001b[49m\u001b[43melement_count\u001b[49m\u001b[38;5;241;43m=\u001b[39;49m\u001b[38;5;241;43m1024\u001b[39;49m\u001b[43m,\u001b[49m\u001b[43m \u001b[49m\u001b[43mstruct_type\u001b[49m\u001b[38;5;241;43m=\u001b[39;49m\u001b[43mkernel\u001b[49m\u001b[38;5;241;43m.\u001b[39;49m\u001b[43mreflection\u001b[49m\u001b[38;5;241;43m.\u001b[39;49m\u001b[43mmain\u001b[49m\u001b[38;5;241;43m.\u001b[39;49m\u001b[43mbuf_x\u001b[49m\u001b[43m,\u001b[49m\u001b[43m \u001b[49m\u001b[43musage\u001b[49m\u001b[38;5;241;43m=\u001b[39;49m\u001b[43msgl\u001b[49m\u001b[38;5;241;43m.\u001b[39;49m\u001b[43mResourceUsage\u001b[49m\u001b[38;5;241;43m.\u001b[39;49m\u001b[43mshader_resource\u001b[49m\u001b[43m)\u001b[49m\n\u001b[0;32m     16\u001b[0m buf_y \u001b[38;5;241m=\u001b[39m device\u001b[38;5;241m.\u001b[39mcreate_buffer(element_count\u001b[38;5;241m=\u001b[39m\u001b[38;5;241m1024\u001b[39m, struct_type\u001b[38;5;241m=\u001b[39mkernel\u001b[38;5;241m.\u001b[39mreflection\u001b[38;5;241m.\u001b[39mmain\u001b[38;5;241m.\u001b[39mbuf_y, usage\u001b[38;5;241m=\u001b[39msgl\u001b[38;5;241m.\u001b[39mResourceUsage\u001b[38;5;241m.\u001b[39munordered_access)\n\u001b[0;32m     17\u001b[0m buf_dydx \u001b[38;5;241m=\u001b[39m device\u001b[38;5;241m.\u001b[39mcreate_buffer(element_count\u001b[38;5;241m=\u001b[39m\u001b[38;5;241m1024\u001b[39m, struct_type\u001b[38;5;241m=\u001b[39mkernel\u001b[38;5;241m.\u001b[39mreflection\u001b[38;5;241m.\u001b[39mmain\u001b[38;5;241m.\u001b[39mbuf_dydx, usage\u001b[38;5;241m=\u001b[39msgl\u001b[38;5;241m.\u001b[39mResourceUsage\u001b[38;5;241m.\u001b[39munordered_access)\n",
      "\u001b[1;31mTypeError\u001b[0m: create_buffer(): incompatible function arguments. The following argument types are supported:\n    1. create_buffer(self, size: int = 0, struct_size: int = 0, format: sgl.Format = sgl.Format.unknown, usage: sgl.ResourceUsage = sgl.ResourceUsage.none, memory_type: sgl.MemoryType = sgl.MemoryType.device_local, debug_name: str = '', data: numpy.ndarray[] | None = None) -> sgl.Buffer\n    2. create_buffer(self, desc: sgl.BufferDesc) -> sgl.Buffer\n\nInvoked with types: sgl.Device, kwargs = { element_count: int, struct_type: sgl.ReflectionCursor, usage: sgl.ResourceUsage }"
     ]
    }
   ],
   "source": [
    "%matplotlib widget\n",
    "\n",
    "import sgl\n",
    "from ipywidgets import *\n",
    "import numpy as np\n",
    "import matplotlib.pyplot as plt\n",
    "import os\n",
    "\n",
    "DIR = os.path.abspath(os.path.curdir)\n",
    "\n",
    "device = sgl.Device(compiler_options={\"include_paths\": [DIR]})\n",
    "\n",
    "program = device.load_program(\"func.slang\", [\"main\"])\n",
    "kernel = device.create_compute_kernel(program)\n",
    "buf_x = device.create_buffer(element_count=1024, struct_type=kernel.reflection.main.buf_x, usage=sgl.ResourceUsage.shader_resource)\n",
    "buf_y = device.create_buffer(element_count=1024, struct_type=kernel.reflection.main.buf_y, usage=sgl.ResourceUsage.unordered_access)\n",
    "buf_dydx = device.create_buffer(element_count=1024, struct_type=kernel.reflection.main.buf_dydx, usage=sgl.ResourceUsage.unordered_access)\n",
    "\n",
    "def eval_func(x, A=0.5, B=10.0, C=0.0):\n",
    "    buf_x.copy_from_numpy(x)\n",
    "    kernel.dispatch(thread_count=[1024,1,1], buf_x=buf_x, buf_y=buf_y, buf_dydx=buf_dydx, A=A, B=B, C=C)\n",
    "    y = buf_y.to_numpy().view(np.float32)\n",
    "    dydx = buf_dydx.to_numpy().view(np.float32)\n",
    "    return y, dydx\n",
    "\n",
    "x = np.linspace(0, 1, 1024, dtype=np.float32)\n",
    "\n",
    "fig = plt.figure()\n",
    "ax = fig.add_subplot(1, 1, 1)\n",
    "ax.set_title(\"y = A * sin(B * x) + C\")\n",
    "y, dydx = eval_func(x)\n",
    "line_y, = ax.plot(x, y, label=\"y\")\n",
    "line_dydx, = ax.plot(x, dydx, label=\"dy/dx\")\n",
    "ax.legend(loc=\"upper right\")\n",
    "\n",
    "def update(A, B, C):\n",
    "    y, dydx = eval_func(x, A, B, C)\n",
    "    line_y.set_ydata(y)\n",
    "    line_dydx.set_ydata(dydx)\n",
    "    fig.canvas.draw_idle()\n",
    "    \n",
    "interact(update, A = (0,1,0.1), B = (0,100,0.1), C = (-5,5,0.1));"
   ]
  }
 ],
 "metadata": {
  "kernelspec": {
   "display_name": "falcor-pytorch",
   "language": "python",
   "name": "python3"
  },
  "language_info": {
   "codemirror_mode": {
    "name": "ipython",
    "version": 3
   },
   "file_extension": ".py",
   "mimetype": "text/x-python",
   "name": "python",
   "nbconvert_exporter": "python",
   "pygments_lexer": "ipython3",
   "version": "3.10.12"
  }
 },
 "nbformat": 4,
 "nbformat_minor": 2
}
